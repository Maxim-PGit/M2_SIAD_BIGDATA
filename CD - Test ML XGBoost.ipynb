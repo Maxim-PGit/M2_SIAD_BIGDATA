{
 "cells": [
  {
   "cell_type": "code",
   "execution_count": 37,
   "id": "5949fb51",
   "metadata": {},
   "outputs": [
    {
     "name": "stdout",
     "output_type": "stream",
     "text": [
      "Mean Squared Error: 1196776.9583130102\n"
     ]
    }
   ],
   "source": [
    "import pandas as pd\n",
    "from xgboost import XGBRegressor\n",
    "from sklearn.model_selection import train_test_split\n",
    "from sklearn.metrics import mean_squared_error\n",
    "from sklearn.preprocessing import LabelEncoder\n",
    "\n",
    "# Charger les données\n",
    "train_data = pd.read_csv('data/modifie/trainFinal.csv')\n",
    "test_data = pd.read_csv('data/modifie/testFinal.csv')\n",
    "\n",
    "# Assurez-vous que 'date' est de type datetime\n",
    "train_data['date'] = pd.to_datetime(train_data['date'])\n",
    "test_data['date'] = pd.to_datetime(test_data['date'])\n",
    "\n",
    "# Ajouter des caractéristiques temporelles\n",
    "train_data['year'] = train_data['date'].dt.year\n",
    "train_data['month'] = train_data['date'].dt.month\n",
    "train_data['day'] = train_data['date'].dt.day\n",
    "\n",
    "# Encoder les variables catégorielles avec LabelEncoder\n",
    "label_encoder = LabelEncoder()\n",
    "train_data['city'] = label_encoder.fit_transform(train_data['city'])\n",
    "train_data['state'] = label_encoder.fit_transform(train_data['state'])\n",
    "train_data['dateStoreNbr'] = label_encoder.fit_transform(train_data['dateStoreNbr'])\n",
    "\n",
    "# Diviser les données en ensembles d'entraînement et de test\n",
    "X_train, X_test, y_train, y_test = train_test_split(train_data[['year', 'month', 'day', 'city', 'state', 'dateStoreNbr']], train_data['sales'], test_size=0.2, random_state=42)\n",
    "\n",
    "# Créer le modèle XGBoost\n",
    "model = XGBRegressor(objective='reg:squarederror', n_estimators=100, random_state=42)\n",
    "\n",
    "# Entraîner le modèle\n",
    "model.fit(X_train, y_train)\n",
    "\n",
    "# Faire des prédictions sur l'ensemble de test\n",
    "y_pred = model.predict(X_test)\n",
    "\n",
    "# Calculer l'erreur\n",
    "mse = mean_squared_error(y_test, y_pred)\n",
    "print(f'Mean Squared Error: {mse}')\n"
   ]
  },
  {
   "cell_type": "code",
   "execution_count": 38,
   "id": "576dfeed",
   "metadata": {},
   "outputs": [
    {
     "name": "stdout",
     "output_type": "stream",
     "text": [
      "[272.747   198.01942 328.27686 ... 448.1282  215.35887 222.30452]\n"
     ]
    }
   ],
   "source": [
    "print(y_pred)"
   ]
  }
 ],
 "metadata": {
  "kernelspec": {
   "display_name": "Python 3 (ipykernel)",
   "language": "python",
   "name": "python3"
  },
  "language_info": {
   "codemirror_mode": {
    "name": "ipython",
    "version": 3
   },
   "file_extension": ".py",
   "mimetype": "text/x-python",
   "name": "python",
   "nbconvert_exporter": "python",
   "pygments_lexer": "ipython3",
   "version": "3.10.9"
  }
 },
 "nbformat": 4,
 "nbformat_minor": 5
}
