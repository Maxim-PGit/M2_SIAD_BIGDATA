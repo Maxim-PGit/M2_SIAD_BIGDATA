{
 "cells": [
  {
   "cell_type": "code",
   "execution_count": 2,
   "id": "164b4b5d",
   "metadata": {},
   "outputs": [],
   "source": [
    "import pandas as pd\n",
    "import numpy as np\n",
    "import matplotlib.pyplot as plt\n",
    "from statsmodels.tsa.arima.model import ARIMA\n",
    "from sklearn.metrics import mean_squared_error\n",
    "from pmdarima import auto_arima"
   ]
  },
  {
   "cell_type": "code",
   "execution_count": 3,
   "id": "6143d9ab",
   "metadata": {},
   "outputs": [],
   "source": [
    "# Charger les données d'entraînement\n",
    "train_data = pd.read_csv('data/modifie/trainFinal.csv')"
   ]
  },
  {
   "cell_type": "code",
   "execution_count": 4,
   "id": "f5a8f6a9",
   "metadata": {},
   "outputs": [],
   "source": [
    "# Assurez-vous que la colonne de la variable temporelle 'date' est de type datetime\n",
    "train_data['date'] = pd.to_datetime(train_data['date'])\n",
    "train_data = train_data.set_index('date')"
   ]
  },
  {
   "cell_type": "code",
   "execution_count": null,
   "id": "2becac21",
   "metadata": {},
   "outputs": [],
   "source": [
    "model = auto_arima(train_data['sales'], seasonal=True, suppress_warnings=True, stepwise=True)"
   ]
  },
  {
   "cell_type": "code",
   "execution_count": null,
   "id": "53da5ee4",
   "metadata": {},
   "outputs": [],
   "source": [
    "# Créer et ajuster le modèle ARIMA\n",
    "model = ARIMA(train_data['sales'], order=(p, d, q))  # Remplacez p, d, q par les ordres appropriés\n",
    "results = model.fit()"
   ]
  },
  {
   "cell_type": "code",
   "execution_count": null,
   "id": "ffcb6480",
   "metadata": {},
   "outputs": [],
   "source": [
    "# Charger les données de test\n",
    "test_data = pd.read_csv(\"data/modifie/testFinal.csv\")"
   ]
  },
  {
   "cell_type": "code",
   "execution_count": null,
   "id": "1616e445",
   "metadata": {},
   "outputs": [],
   "source": [
    "# Assurez-vous que la colonne de la variable temporelle est de type datetime\n",
    "test_data['date'] = pd.to_datetime(test_data['date'])\n",
    "test_data = test_data.set_index('date')"
   ]
  },
  {
   "cell_type": "code",
   "execution_count": null,
   "id": "af123f3d",
   "metadata": {},
   "outputs": [],
   "source": [
    "# Effectuer les prédictions\n",
    "predictions = results.predict(start=len(train_data), end=len(train_data) + len(test_data) - 1, typ='levels')"
   ]
  },
  {
   "cell_type": "code",
   "execution_count": null,
   "id": "fbc3fe4c",
   "metadata": {},
   "outputs": [],
   "source": [
    "# Afficher les résultats\n",
    "plt.plot(train_data.index, train_data['sales'], label='Train')\n",
    "plt.plot(test_data.index, test_data['sales'], label='Actual')\n",
    "plt.plot(test_data.index, predictions, label='ARIMA Predictions')\n",
    "plt.legend()\n",
    "plt.show()"
   ]
  },
  {
   "cell_type": "code",
   "execution_count": null,
   "id": "1455fc6d",
   "metadata": {},
   "outputs": [],
   "source": [
    "# Évaluer les performances du modèle\n",
    "mse = mean_squared_error(test_data['sales'], predictions)\n",
    "print(f'Mean Squared Error: {mse}')"
   ]
  },
  {
   "cell_type": "code",
   "execution_count": null,
   "id": "44ab0e7b-9896-4400-a43a-b3a28cc82491",
   "metadata": {},
   "outputs": [],
   "source": []
  },
  {
   "cell_type": "code",
   "execution_count": null,
   "id": "01b10281-6d0a-4d49-9669-23ce5909912c",
   "metadata": {},
   "outputs": [],
   "source": []
  }
 ],
 "metadata": {
  "kernelspec": {
   "display_name": "Python 3 (ipykernel)",
   "language": "python",
   "name": "python3"
  },
  "language_info": {
   "codemirror_mode": {
    "name": "ipython",
    "version": 3
   },
   "file_extension": ".py",
   "mimetype": "text/x-python",
   "name": "python",
   "nbconvert_exporter": "python",
   "pygments_lexer": "ipython3",
   "version": "3.11.0"
  }
 },
 "nbformat": 4,
 "nbformat_minor": 5
}
